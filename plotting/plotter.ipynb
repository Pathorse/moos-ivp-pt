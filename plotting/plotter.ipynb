{
 "cells": [
  {
   "cell_type": "code",
   "execution_count": 1,
   "metadata": {},
   "outputs": [],
   "source": [
    "import pandas as pd\n",
    "import numpy as np\n",
    "import matplotlib as mpl\n",
    "import matplotlib.pyplot as plt"
   ]
  },
  {
   "cell_type": "code",
   "execution_count": 2,
   "metadata": {},
   "outputs": [],
   "source": [
    "def cleanup_data(df, df_variables):\n",
    "    # Drop unecessary column\n",
    "    df = df.drop(columns=['Process'])\n",
    "    \n",
    "    # Remove missing data\n",
    "    for ts in df.index.unique():\n",
    "        \n",
    "        # Remove duplicates if present\n",
    "        #if df.loc[ts].shape[0] > 3:\n",
    "        #    df = df.loc[ts].drop_duplicates(subset='Variable')\n",
    "        \n",
    "        if df.loc[ts].shape[0] != 3 or set(df_variables) != set(df.loc[ts]['Variable']):\n",
    "            df = df.drop([ts])\n",
    "        \n",
    "        # Variables at given ts\n",
    "        #ts_variables = df.loc[ts]['Variable']\n",
    "        \n",
    "        #if not isinstance(ts_variables,str):\n",
    "        #    print('Dropping duplicates at timestamp: ', ts)\n",
    "            # Remove potential duplicates at ts\n",
    "        #    df.loc[ts].drop_duplicates(subset=['Variable'])\n",
    "\n",
    "        #if not (set(df_variables) == set(ts_variables)):\n",
    "            #print('Dropping at timestamp: ', ts)\n",
    "        #    df = df.drop([ts])\n",
    "            \n",
    "    \n",
    "    \n",
    "    # Sort data based on variable\n",
    "    new_df = pd.DataFrame()\n",
    "    \n",
    "    # \n",
    "    for variable in df_variables:\n",
    "        # Get data for variable\n",
    "        data = df.loc[df['Variable'] == variable]\n",
    "        \n",
    "        # Insert data to new dataframe with column header\n",
    "        new_df.insert(0, variable, data['Value'].values)\n",
    "        \n",
    "    return new_df\n",
    "\n",
    "def plot_usv_contour(ax, df, width=10, height=5, tip_height=18, color='k'):\n",
    "    w = width\n",
    "    h = height\n",
    "    l = tip_height\n",
    "    \n",
    "    # Number of values\n",
    "    N = df.shape[0]\n",
    "    \n",
    "    # Plot contour for all steps\n",
    "    for n in range(0, N//2 + N//4 + N//6, N//3):\n",
    "        # Create USV shape\n",
    "        #if (n == 0) or (n == df.shape[0] - 1): # Different color for start/finish and other points\n",
    "        #    shape = mpl.patches.Polygon([(-w/2,-h/2), (-w/2, h/2), (w/2, h/2), (l/2,0), (w/2, -h/2)], color='red', fill=True)\n",
    "        #else:\n",
    "        #    shape = mpl.patches.Polygon([(-w/2,-h/2), (-w/2, h/2), (w/2, h/2), (l/2,0), (w/2, -h/2)], color=color, fill=True)\n",
    "        \n",
    "        # Create USV shape\n",
    "        shape = mpl.patches.Polygon([(-w/2,-h/2), (-w/2, h/2), (w/2, h/2), (l/2,0), (w/2, -h/2)], color=color, fill=True, zorder=2)\n",
    "\n",
    "        \n",
    "        # NED Values\n",
    "        x_n = df['NAV_X'].values[n]\n",
    "        y_n = df['NAV_Y'].values[n]\n",
    "        h_n = df['NAV_HEADING'].values[n]\n",
    "        \n",
    "        # ECEF Values\n",
    "        \n",
    "        \n",
    "        \n",
    "        # Transform applied at each step\n",
    "        t = mpl.transforms.Affine2D().rotate_deg_around(0, 0, 90 - h_n).translate(x_n, y_n) + ax.transData\n",
    "        shape.set_transform(t)\n",
    "\n",
    "        ax.add_patch(shape)"
   ]
  },
  {
   "cell_type": "markdown",
   "metadata": {},
   "source": [
    "# Prepare data"
   ]
  },
  {
   "cell_type": "code",
   "execution_count": 3,
   "metadata": {},
   "outputs": [],
   "source": [
    "df_names = [\"Timestamp\", \"Variable\", \"Process\", \"Value\"]\n",
    "df_variables = ['NAV_X', 'NAV_Y', 'NAV_HEADING']\n",
    "\n",
    "datafolder = \"~/moos-ivp-pt/plotting/logfiles/bcmpc_scenario_3/non_colregs_compliant/\""
   ]
  },
  {
   "cell_type": "code",
   "execution_count": 4,
   "metadata": {},
   "outputs": [],
   "source": [
    "os_path = datafolder + \"os.alog\"\n",
    "\n",
    "os_df = pd.read_fwf(os_path, header=None, index_col=0, names=df_names, skiprows=5)\n",
    "os_df = cleanup_data(os_df, df_variables)"
   ]
  },
  {
   "cell_type": "code",
   "execution_count": 5,
   "metadata": {},
   "outputs": [],
   "source": [
    "cn_1_path = datafolder + \"cn_1.alog\"\n",
    "\n",
    "cn_1_df = pd.read_fwf(cn_1_path, header=None, index_col=0, names=df_names, skiprows=5)\n",
    "cn_1_df = cleanup_data(cn_1_df, df_variables)\n",
    "\n",
    "# remove last n=70 frames\n",
    "cn_1_df.drop(cn_1_df.tail(85).index,inplace=True)"
   ]
  },
  {
   "cell_type": "code",
   "execution_count": 6,
   "metadata": {},
   "outputs": [],
   "source": [
    "cn_2_path = datafolder + \"cn_2.alog\"\n",
    "\n",
    "cn_2_df = pd.read_fwf(cn_2_path, header=None, index_col=0, names=df_names, skiprows=5)\n",
    "cn_2_df = cleanup_data(cn_2_df, df_variables)"
   ]
  },
  {
   "cell_type": "code",
   "execution_count": 7,
   "metadata": {},
   "outputs": [],
   "source": [
    "cn_3_path = datafolder + \"cn_3.alog\"\n",
    "\n",
    "cn_3_df = pd.read_fwf(cn_3_path, header=None, index_col=0, names=df_names, skiprows=5)\n",
    "cn_3_df = cleanup_data(cn_3_df, df_variables)"
   ]
  },
  {
   "cell_type": "raw",
   "metadata": {},
   "source": [
    "cn_4_path = datafolder + \"cn_4.alog\"\n",
    "\n",
    "cn_4_df = pd.read_fwf(cn_4_path, header=None, index_col=0, names=df_names, skiprows=5)\n",
    "cn_4_df = cleanup_data(cn_4_df, df_variables)"
   ]
  },
  {
   "cell_type": "raw",
   "metadata": {},
   "source": [
    "cn_5_path = datafolder + \"cn_5.alog\"\n",
    "\n",
    "cn_5_df = pd.read_fwf(cn_5_path, header=None, index_col=0, names=df_names, skiprows=5)\n",
    "cn_5_df = cleanup_data(cn_5_df, df_variables)"
   ]
  },
  {
   "cell_type": "raw",
   "metadata": {},
   "source": [
    "cn_6_path = datafolder + \"cn_6.alog\"\n",
    "\n",
    "cn_6_df = pd.read_fwf(cn_6_path, header=None, index_col=0, names=df_names, skiprows=5)\n",
    "cn_6_df = cleanup_data(cn_6_df, df_variables)"
   ]
  },
  {
   "cell_type": "markdown",
   "metadata": {},
   "source": [
    "# Plotting"
   ]
  },
  {
   "cell_type": "code",
   "execution_count": 8,
   "metadata": {},
   "outputs": [
    {
     "name": "stderr",
     "output_type": "stream",
     "text": [
      "The PostScript backend does not support transparency; partially transparent artists will be rendered opaque.\n",
      "The PostScript backend does not support transparency; partially transparent artists will be rendered opaque.\n"
     ]
    },
    {
     "data": {
      "image/png": "[encoded data removed]",
      "text/plain": [
       "<Figure size 576x576 with 1 Axes>"
      ]
     },
     "metadata": {
      "needs_background": "light"
     },
     "output_type": "display_data"
    }
   ],
   "source": [
    "plt.figure(figsize=(8,8))\n",
    "ax = plt.gca()\n",
    "\n",
    "# Set USV Plot settings\n",
    "os_trj_color = 'k'\n",
    "os_color = 'darkgray'\n",
    "os_label = 'Ownship trajectory'\n",
    "\n",
    "cn_1_trj_color = 'darkred'\n",
    "cn_1_color = 'darkred'\n",
    "cn_1_label = 'Contact trajectory'\n",
    "\n",
    "cn_2_trj_color = 'darkred'\n",
    "cn_2_color = 'darkred'\n",
    "cn_2_label = 'Contact 2 trajectory'\n",
    "\n",
    "cn_3_trj_color = 'darkred'\n",
    "cn_3_color = 'darkred'\n",
    "cn_3_label = 'Contact 3 trajectory'\n",
    "\n",
    "cn_4_trj_color = 'darkred'\n",
    "cn_4_color = 'darkred'\n",
    "cn_4_label = 'Contact 4 trajectory'\n",
    "\n",
    "cn_5_trj_color = 'darkred'\n",
    "cn_5_color = 'darkred'\n",
    "cn_5_label = 'Contact 5 trajectory'\n",
    "\n",
    "cn_6_trj_color = 'darkred'\n",
    "cn_6_color = 'darkred'\n",
    "cn_6_label = 'Contact 6 trajectory'\n",
    "\n",
    "\n",
    "# Plot trajectories\n",
    "plt.plot(os_df['NAV_X'].values, os_df['NAV_Y'].values, color=os_trj_color, linestyle=':', label=os_label, zorder=0)\n",
    "plt.plot(cn_1_df['NAV_X'].values, cn_1_df['NAV_Y'].values, color=cn_1_trj_color, linestyle=':', label=cn_1_label, zorder=0)\n",
    "plt.plot(cn_2_df['NAV_X'].values, cn_2_df['NAV_Y'].values, color=cn_2_trj_color, linestyle=':', zorder=0)#, label=cn_2_label, zorder=0)\n",
    "plt.plot(cn_3_df['NAV_X'].values, cn_3_df['NAV_Y'].values, color=cn_3_trj_color, linestyle=':', zorder=0)#, label=cn_3_label, zorder=0)\n",
    "#plt.plot(cn_4_df['NAV_X'].values, cn_4_df['NAV_Y'].values, color=cn_4_trj_color, linestyle=':', zorder=0)#, label=cn_4_label, zorder=0)\n",
    "#plt.plot(cn_5_df['NAV_X'].values, cn_5_df['NAV_Y'].values, color=cn_5_trj_color, linestyle=':', zorder=0)#, label=cn_5_label, zorder=0)\n",
    "#plt.plot(cn_6_df['NAV_X'].values, cn_6_df['NAV_Y'].values, color=cn_6_trj_color, linestyle=':', zorder=0)#, label=cn_6_label, zorder=0)\n",
    "\n",
    "\n",
    "# Plot USV contours\n",
    "plot_usv_contour(ax, os_df, color=os_color)\n",
    "plot_usv_contour(ax, cn_1_df, color=cn_1_color)\n",
    "plot_usv_contour(ax, cn_2_df, color=cn_2_color)\n",
    "plot_usv_contour(ax, cn_3_df, color=cn_3_color)\n",
    "#plot_usv_contour(ax, cn_4_df, color=cn_4_color)\n",
    "#plot_usv_contour(ax, cn_5_df, color=cn_5_color)\n",
    "#plot_usv_contour(ax, cn_6_df, color=cn_6_color)\n",
    "\n",
    "\n",
    "# Customize\n",
    "plt.legend()\n",
    "plt.ylabel('North [m] ')\n",
    "plt.xlabel('East [m]')\n",
    "plt.gca().set_aspect('equal')\n",
    "#plt.axis('square')\n",
    "\n",
    "plt.savefig('plots/moos_bcmpc_scenario_3_non_colregs_compliant.eps')\n",
    "plt.show()\n"
   ]
  },
  {
   "cell_type": "code",
   "execution_count": null,
   "metadata": {},
   "outputs": [],
   "source": []
  }
 ],
 "metadata": {
  "kernelspec": {
   "display_name": "env",
   "language": "python",
   "name": "env"
  },
  "language_info": {
   "codemirror_mode": {
    "name": "ipython",
    "version": 3
   },
   "file_extension": ".py",
   "mimetype": "text/x-python",
   "name": "python",
   "nbconvert_exporter": "python",
   "pygments_lexer": "ipython3",
   "version": "3.8.6"
  }
 },
 "nbformat": 4,
 "nbformat_minor": 4
}
